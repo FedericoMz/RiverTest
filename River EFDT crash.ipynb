{
 "cells": [
  {
   "cell_type": "code",
   "execution_count": 1,
   "id": "4858fd5c",
   "metadata": {},
   "outputs": [],
   "source": [
    "from river import tree\n",
    "import pandas as pd\n",
    "from tqdm import tqdm"
   ]
  },
  {
   "cell_type": "code",
   "execution_count": 2,
   "id": "bf91ea87",
   "metadata": {},
   "outputs": [],
   "source": [
    "target = 'is_promoted'\n",
    "cats = ['awards_won?', 'gender', 'department', 'recruitment_channel']\n",
    "\n",
    "#training without requesting explanations\n",
    "\n",
    "pretrain_df = pd.read_json(\"pretrain.json\")\n",
    "\n",
    "Y_pretrain = list(pretrain_df[target])\n",
    "Y_pretrain = [bool(y) for y in Y_pretrain]\n",
    "X_pretrain = pretrain_df.loc[:, pretrain_df.columns!=target]\n",
    "X_pretrain = list(X_pretrain.to_dict(orient='index').values())\n",
    "\n",
    "model = tree.ExtremelyFastDecisionTreeClassifier(grace_period=200, nominal_attributes=cats)\n",
    "\n",
    "for x, y in zip(X_pretrain, Y_pretrain):\n",
    "    model.learn_one(x, y)\n"
   ]
  },
  {
   "cell_type": "code",
   "execution_count": 3,
   "id": "2ce9959e",
   "metadata": {},
   "outputs": [],
   "source": [
    "df = pd.read_json(\"df_stream.json\")    \n",
    "    \n",
    "Y = list(df[target])\n",
    "Y = [bool(y) for y in Y]\n",
    "X = df.loc[:, df.columns!=target]\n",
    "X = list(X.to_dict(orient='index').values())"
   ]
  },
  {
   "cell_type": "code",
   "execution_count": 4,
   "id": "b9be581f",
   "metadata": {},
   "outputs": [
    {
     "name": "stderr",
     "output_type": "stream",
     "text": [
      "  5%|█▋                                   | 1281/27316 [00:08<02:51, 151.72it/s]\n"
     ]
    },
    {
     "ename": "KeyError",
     "evalue": "6",
     "output_type": "error",
     "traceback": [
      "\u001b[0;31m---------------------------------------------------------------------------\u001b[0m",
      "\u001b[0;31mKeyError\u001b[0m                                  Traceback (most recent call last)",
      "Cell \u001b[0;32mIn[4], line 10\u001b[0m\n\u001b[1;32m      7\u001b[0m \u001b[38;5;28;01mfor\u001b[39;00m x_past \u001b[38;5;129;01min\u001b[39;00m previous:\n\u001b[1;32m      8\u001b[0m     \u001b[38;5;66;03m#### if one of these lines is commented, it works fine\u001b[39;00m\n\u001b[1;32m      9\u001b[0m     model\u001b[38;5;241m.\u001b[39mpredict_proba_one(x_past) \n\u001b[0;32m---> 10\u001b[0m     \u001b[43mmodel\u001b[49m\u001b[38;5;241;43m.\u001b[39;49m\u001b[43mdebug_one\u001b[49m\u001b[43m(\u001b[49m\u001b[43mx_past\u001b[49m\u001b[43m)\u001b[49m\n\u001b[1;32m     13\u001b[0m previous\u001b[38;5;241m.\u001b[39mappend(x)\n",
      "File \u001b[0;32m~/miniforge3/envs/fawos/lib/python3.11/site-packages/river/tree/hoeffding_tree.py:363\u001b[0m, in \u001b[0;36mHoeffdingTree.debug_one\u001b[0;34m(self, x)\u001b[0m\n\u001b[1;32m    360\u001b[0m         \u001b[38;5;28;01mexcept\u001b[39;00m \u001b[38;5;167;01mKeyError\u001b[39;00m:\n\u001b[1;32m    361\u001b[0m             child_index, _ \u001b[38;5;241m=\u001b[39m node\u001b[38;5;241m.\u001b[39mmost_common_path()\n\u001b[0;32m--> 363\u001b[0m         _print(\u001b[43mnode\u001b[49m\u001b[38;5;241;43m.\u001b[39;49m\u001b[43mrepr_branch\u001b[49m\u001b[43m(\u001b[49m\u001b[43mchild_index\u001b[49m\u001b[43m)\u001b[49m)\n\u001b[1;32m    365\u001b[0m \u001b[38;5;28;01mreturn\u001b[39;00m buffer\u001b[38;5;241m.\u001b[39mgetvalue()\n",
      "File \u001b[0;32m~/miniforge3/envs/fawos/lib/python3.11/site-packages/river/tree/nodes/branch.py:197\u001b[0m, in \u001b[0;36mNominalMultiwayBranch.repr_branch\u001b[0;34m(self, index, shorten)\u001b[0m\n\u001b[1;32m    196\u001b[0m \u001b[38;5;28;01mdef\u001b[39;00m \u001b[38;5;21mrepr_branch\u001b[39m(\u001b[38;5;28mself\u001b[39m, index: \u001b[38;5;28mint\u001b[39m, shorten\u001b[38;5;241m=\u001b[39m\u001b[38;5;28;01mFalse\u001b[39;00m):\n\u001b[0;32m--> 197\u001b[0m     feat_val \u001b[38;5;241m=\u001b[39m \u001b[38;5;28;43mself\u001b[39;49m\u001b[38;5;241;43m.\u001b[39;49m\u001b[43m_r_mapping\u001b[49m\u001b[43m[\u001b[49m\u001b[43mindex\u001b[49m\u001b[43m]\u001b[49m\n\u001b[1;32m    199\u001b[0m     \u001b[38;5;28;01mif\u001b[39;00m shorten:\n\u001b[1;32m    200\u001b[0m         \u001b[38;5;28;01mreturn\u001b[39;00m \u001b[38;5;28mstr\u001b[39m(feat_val)\n",
      "\u001b[0;31mKeyError\u001b[0m: 6"
     ]
    }
   ],
   "source": [
    "previous = []\n",
    "for i in tqdm(range(len(X))):\n",
    "    x = X[i]\n",
    "    y = Y[i]\n",
    "    model.learn_one(x, y)\n",
    "           \n",
    "    for x_past in previous:\n",
    "        #### if one of these lines is commented, it works fine\n",
    "        model.predict_proba_one(x_past) \n",
    "        model.debug_one(x_past)\n",
    "\n",
    "            \n",
    "    previous.append(x)\n"
   ]
  },
  {
   "cell_type": "code",
   "execution_count": null,
   "id": "9126136b",
   "metadata": {},
   "outputs": [],
   "source": []
  },
  {
   "cell_type": "code",
   "execution_count": null,
   "id": "4f952c57",
   "metadata": {},
   "outputs": [],
   "source": []
  }
 ],
 "metadata": {
  "kernelspec": {
   "display_name": "Python 3 (ipykernel)",
   "language": "python",
   "name": "python3"
  },
  "language_info": {
   "codemirror_mode": {
    "name": "ipython",
    "version": 3
   },
   "file_extension": ".py",
   "mimetype": "text/x-python",
   "name": "python",
   "nbconvert_exporter": "python",
   "pygments_lexer": "ipython3",
   "version": "3.11.0"
  }
 },
 "nbformat": 4,
 "nbformat_minor": 5
}
